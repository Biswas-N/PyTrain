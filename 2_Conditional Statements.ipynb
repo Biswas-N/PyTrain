{
 "cells": [
  {
   "cell_type": "code",
   "execution_count": 10,
   "metadata": {},
   "outputs": [
    {
     "name": "stdout",
     "output_type": "stream",
     "text": [
      "A is 10\n"
     ]
    }
   ],
   "source": [
    "a = 10\n",
    "if(a == 10):\n",
    "    print(\"A is 10\")\n",
    "else:\n",
    "    print(\"A is not 10\")"
   ]
  },
  {
   "cell_type": "code",
   "execution_count": 16,
   "metadata": {},
   "outputs": [
    {
     "name": "stdout",
     "output_type": "stream",
     "text": [
      "A is noting\n"
     ]
    }
   ],
   "source": [
    "a = 1\n",
    "if(a == 10):\n",
    "    print(\"A is 10\")\n",
    "elif(a == 11):\n",
    "    print(\"A is 11\")\n",
    "elif(a == 12):\n",
    "    print(\"A is 12\")\n",
    "else:\n",
    "    print(\"A is noting\")"
   ]
  },
  {
   "cell_type": "code",
   "execution_count": 19,
   "metadata": {},
   "outputs": [
    {
     "name": "stdout",
     "output_type": "stream",
     "text": [
      "10\n"
     ]
    }
   ],
   "source": [
    "a = 10\n",
    "if(a == 10):\n",
    "    if(type(a) != 'int'):\n",
    "        print(a)\n",
    "else:\n",
    "    print(\"Inside Else\")"
   ]
  },
  {
   "cell_type": "code",
   "execution_count": 29,
   "metadata": {},
   "outputs": [
    {
     "name": "stdout",
     "output_type": "stream",
     "text": [
      "a == 10: True\n",
      "a != 10: False\n",
      "a >= 10: True\n",
      "a <= 10: True\n"
     ]
    }
   ],
   "source": [
    "a = 10\n",
    "print(\"a == 10: \" + str(a==10))\n",
    "print(\"a != 10: \" + str(a!=10))\n",
    "print(\"a >= 10: \" + str(a==10))\n",
    "print(\"a <= 10: \" + str(a==10))"
   ]
  }
 ],
 "metadata": {
  "kernelspec": {
   "display_name": "Python 3",
   "language": "python",
   "name": "python3"
  },
  "language_info": {
   "codemirror_mode": {
    "name": "ipython",
    "version": 3
   },
   "file_extension": ".py",
   "mimetype": "text/x-python",
   "name": "python",
   "nbconvert_exporter": "python",
   "pygments_lexer": "ipython3",
   "version": "3.6.5"
  }
 },
 "nbformat": 4,
 "nbformat_minor": 2
}
