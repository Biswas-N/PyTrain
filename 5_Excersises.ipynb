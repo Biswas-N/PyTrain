{
 "cells": [
  {
   "cell_type": "code",
   "execution_count": 22,
   "metadata": {},
   "outputs": [
    {
     "name": "stdout",
     "output_type": "stream",
     "text": [
      "Enter Number: 5\n",
      "The factorial is 120\n"
     ]
    }
   ],
   "source": [
    "# Factorial\n",
    "userInput = int(input(\"Enter Number: \"))\n",
    "factorial = userInput\n",
    "for x in list(range(userInput))[1:userInput]:\n",
    "    factorial = factorial * x\n",
    "print(\"The factorial is {}\".format(factorial))"
   ]
  },
  {
   "cell_type": "code",
   "execution_count": 32,
   "metadata": {},
   "outputs": [
    {
     "name": "stdout",
     "output_type": "stream",
     "text": [
      "Enter Number:50\n",
      "0\n",
      "1\n",
      "1\n",
      "2\n",
      "3\n",
      "5\n",
      "8\n",
      "13\n",
      "21\n",
      "34\n"
     ]
    }
   ],
   "source": [
    "# Fibonacci\n",
    "i,j = 0,1\n",
    "userInp = int(input(\"Enter Number:\"))\n",
    "print(i)\n",
    "print(j)\n",
    "for u in range(userInp):\n",
    "    k = i+j\n",
    "    if k > userInp:\n",
    "        break\n",
    "    i = j\n",
    "    j = k\n",
    "    print(k)"
   ]
  }
 ],
 "metadata": {
  "kernelspec": {
   "display_name": "Python 3",
   "language": "python",
   "name": "python3"
  },
  "language_info": {
   "codemirror_mode": {
    "name": "ipython",
    "version": 3
   },
   "file_extension": ".py",
   "mimetype": "text/x-python",
   "name": "python",
   "nbconvert_exporter": "python",
   "pygments_lexer": "ipython3",
   "version": "3.6.5"
  }
 },
 "nbformat": 4,
 "nbformat_minor": 2
}
