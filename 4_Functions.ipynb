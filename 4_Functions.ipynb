{
 "cells": [
  {
   "cell_type": "code",
   "execution_count": 2,
   "metadata": {},
   "outputs": [
    {
     "name": "stdout",
     "output_type": "stream",
     "text": [
      "Brush\n",
      "Eat\n",
      "Go to clg\n",
      "Come home\n",
      "Sleep\n",
      "Brush\n",
      "Eat\n",
      "Go to clg\n",
      "Come home\n",
      "Sleep\n",
      "Brush\n",
      "Eat\n",
      "Go to clg\n",
      "Come home\n",
      "Sleep\n"
     ]
    }
   ],
   "source": [
    "print(\"Brush\")\n",
    "print(\"Eat\")\n",
    "print(\"Go to clg\")\n",
    "print(\"Come home\")\n",
    "print(\"Sleep\")\n",
    "\n",
    "print(\"Brush\")\n",
    "print(\"Eat\")\n",
    "print(\"Go to clg\")\n",
    "print(\"Come home\")\n",
    "print(\"Sleep\")\n",
    "\n",
    "print(\"Brush\")\n",
    "print(\"Eat\")\n",
    "print(\"Go to clg\")\n",
    "print(\"Come home\")\n",
    "print(\"Sleep\")"
   ]
  },
  {
   "cell_type": "code",
   "execution_count": 5,
   "metadata": {},
   "outputs": [
    {
     "name": "stdout",
     "output_type": "stream",
     "text": [
      "Brush\n",
      "Eat\n",
      "Go to clg\n",
      "Come home\n",
      "Sleep\n",
      "Brush\n",
      "Eat\n",
      "Go to clg\n",
      "Come home\n",
      "Sleep\n",
      "Brush\n",
      "Eat\n",
      "Go to clg\n",
      "Come home\n",
      "Sleep\n"
     ]
    }
   ],
   "source": [
    "def daily_activity():\n",
    "    print(\"Brush\")\n",
    "    print(\"Eat\")\n",
    "    print(\"Go to clg\")\n",
    "    print(\"Come home\")\n",
    "    print(\"Sleep\")\n",
    "\n",
    "for n in range(3):\n",
    "    daily_activity()"
   ]
  },
  {
   "cell_type": "code",
   "execution_count": 10,
   "metadata": {},
   "outputs": [
    {
     "name": "stdout",
     "output_type": "stream",
     "text": [
      "Enter No of times: 1\n",
      "Brush\n",
      "Eat\n",
      "Go to clg\n",
      "Come home\n",
      "Sleep\n"
     ]
    }
   ],
   "source": [
    "def daily_activity(i):\n",
    "    for n in range(i):\n",
    "        print(\"Brush\")\n",
    "        print(\"Eat\")\n",
    "        print(\"Go to clg\")\n",
    "        print(\"Come home\")\n",
    "        print(\"Sleep\")\n",
    "\n",
    "x = int(input(\"Enter No of times: \"))\n",
    "daily_activity(x)"
   ]
  }
 ],
 "metadata": {
  "kernelspec": {
   "display_name": "Python 3",
   "language": "python",
   "name": "python3"
  },
  "language_info": {
   "codemirror_mode": {
    "name": "ipython",
    "version": 3
   },
   "file_extension": ".py",
   "mimetype": "text/x-python",
   "name": "python",
   "nbconvert_exporter": "python",
   "pygments_lexer": "ipython3",
   "version": "3.6.5"
  }
 },
 "nbformat": 4,
 "nbformat_minor": 2
}
